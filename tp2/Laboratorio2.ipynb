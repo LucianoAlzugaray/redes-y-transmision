{
 "cells": [
  {
   "cell_type": "markdown",
   "metadata": {},
   "source": [
    "<h1 style=\"font-size: 40px; text-align:center;\"> Trabajo de Laboratorio 2 </h1>\n",
    "\n",
    "\n"
   ]
  },
  {
   "cell_type": "markdown",
   "metadata": {},
   "source": [
    "# Capa de Transporte"
   ]
  },
  {
   "cell_type": "markdown",
   "metadata": {},
   "source": [
    "Parte 1: TCP Fundamentos"
   ]
  },
  {
   "cell_type": "markdown",
   "metadata": {},
   "source": [
    "**1.\tDos aplicaciones en las máquinas A y B intercambian datos utilizando el protocolo TCP.** "
   ]
  },
  {
   "cell_type": "markdown",
   "metadata": {},
   "source": [
    "a)\tDurante el intercambio de datos entre A y B, luego de establecida la conexión, la máquina A no recibe una confirmación de B sobre su ultimo envío, por lo que retransmite el segmento no confirmado. Al cabo de un tiempo, B recibe las dos copias del segmento tal como A las envió. ¿B detecta que se trata de dos copias de la misma información? Justifique su respuesta.\n",
    "\n",
    "\n",
    "    Gracias al nro de secuencia en la cabecera del segmento TCP, B detecta que se trata de una retransmisión del segmento, por lo que TCP en el host B descarta los bytes del segmento retransmitido.\n",
    "\n",
    "\n",
    "\n",
    "b)\tSuponga que la conexión TCP que A inició con B, es una sesión telnet, (o sea que A se conectará al puerto 23 de B). ¿Es posible que A inicie una segunda conexión TCP hacia el puerto 23 de B, manteniendo la primera conexión activa? Justifique su respuesta e indique, en caso de ser posible, cómo diferenciará A y B los segmentos correspondientes a cada una de las conexiones.\n",
    "\n",
    "     \n",
    "\n",
    "Efectivamenete es posible que A vuelva a abrir una conexión TCP al puerto 23 de B manateniendo la primer conexión activa, cada una de las conexiiones va a poseer una puerto de origen en A difrente y de esta manera se van a difrenciar los segmentos correspondientes a cada una de estas conexiones.\n",
    "\n"
   ]
  },
  {
   "cell_type": "code",
   "execution_count": null,
   "metadata": {},
   "outputs": [],
   "source": []
  },
  {
   "cell_type": "raw",
   "metadata": {},
   "source": [
    "* 2.\tResponda: Verdadero o Falso y justifique.\n",
    "\n",
    "El uso de ventanas de un protocolo:\n",
    "\n",
    "``\n",
    "TCP implementa el control de flujo de datos para que un emisor no desborde el buffer de recepción del receptor con el mecanismo de ventanas, cada emisor mantiene una variable denominada ventana de recepción, que no es otra cosa sino la información de cuanto espacio libre le queda en su buffer de recepción, este dato es enviado al receptor de manera de que cada proceso em cada extremo de la comunicación sepa cuanto espacio libre tiene en su buffer el otro extremo y de esta manera sepa si seguir mandando segmentos TCP o esperar a que se libere el buffer del receptor.\n",
    "Por otro lado TCP implementa en una de las aproximaciones para el control de congestión de red, un mecanismo similiar al anterior con una variable denominada \"ventana de congestion\", la cual analizamos en el punto e. En base a esto vemos los siguientes puntos.\n",
    "\n",
    "``\n",
    "\n",
    "* a)\tPermite aumentar la eficiencia de la transmisión.\n",
    "\n",
    "``\n",
    "Este punto los consideramos verdadero, ya que el uso de la ventana de congestión y de recepción permite ajustar la tasa de transferencias entre los extremos de la conexión maximisando el aprovechamoiento de la red de transimsión.\n",
    "\n",
    "``\n",
    "* b)\tGarantiza el control de errores.\n",
    "\n",
    "``\n",
    "Esto es falso, el mecanismo de ventanas no implementa la funcionalidad para verificar la validez de que cada segmento recibido por el receptor sea correcto o valido.\n",
    "\n",
    "``\n",
    "\n",
    "* c)\tRequiere la identificación de las tramas.\n",
    "\n",
    "``\n",
    "Esto es falso, el mecanismo de ventanas no se vale de esta información en su implementación.\n",
    "\n",
    "``\n",
    "\n",
    "* d)\tDisminuye el overhead del protocolo.\n",
    "\n",
    "\n",
    "\n",
    "* e)\tRealiza el control de CRC.\n",
    "\n",
    "``\n",
    "\n",
    "Esta afirmación es verdadera, en la aproximación para el control de la Congestión \"Control de la congestión entre extremos\", cada extremo de la comunicación mantiene una variable de ventana de congestión, infiere la congestion a travez de la perdida de segmentos TCP, por lo que TCP en consecuencia decrementa el tamaño de ventana congestión, de manera de que se reduzca la emision de datos y se minimice la congestion de la capa de red, por lo que cada emisor se vale de la ventana de congestión y la ventana de recepción, enviando datos al receptor a una taza menor al valor menor entre estas variables, si se siguen perdiendo segmentos va decrementando la variable ventana de congestion.\n",
    "\n",
    "``\n",
    "\n",
    "* f)\tNo acepta paquetes fuera de orden.\n",
    "\n",
    "``\n",
    "\n",
    "Esto es falso, el mecanismo de ventanas es indiferente con el orden en que llegan los segnetos TCP.\n",
    "\n",
    "``\n",
    "\n"
   ]
  },
  {
   "cell_type": "markdown",
   "metadata": {},
   "source": [
    "* 3.\tUtilice el software Cliente – Servidor de la parte 2 del TP1 y lance el analizador de protocolos para observar la siguiente secuencia:\n",
    "\n",
    "a)\tEstablezca conexión entre el cliente y el servidor, enviando un campo de datos del orden de 10 caracteres. Cierre luego la conexión.\n",
    "\n",
    "b)\tIndique la cantidad de paquetes circularon entre mbos extremos desde el inicio de la conexión hasta su cierre.\n",
    "\n",
    "c)\tObserve e indique las banderas que se observan en el 3-Way y 4-Way de inicio y cierre de la conexión.\n",
    "\n",
    "d)\tIndique el número de secuencia que se observa en ambos extremos al inicio de la conexión. Y la ventana de Flujo de ambos extremos.\n",
    "\n",
    "e)\tIndique los números de secuencia que se observan para ambos extremos al término del 3-Way state (sin envío de datos). Qué le parece particular?\n",
    "\n",
    "f)\tIndique los números de secuencia que se observan para ambos extremos al inicio del cierre de la conexión.\n",
    "\n",
    "g)\tIndique los números de secuencia que se observan para ambos extremos al término del cierre de la conexión. Qué le parece particular?\n",
    "\n"
   ]
  },
  {
   "cell_type": "code",
   "execution_count": null,
   "metadata": {},
   "outputs": [],
   "source": []
  }
 ],
 "metadata": {
  "kernelspec": {
   "display_name": "Python 3",
   "language": "python",
   "name": "python3"
  },
  "language_info": {
   "codemirror_mode": {
    "name": "ipython",
    "version": 3
   },
   "file_extension": ".py",
   "mimetype": "text/x-python",
   "name": "python",
   "nbconvert_exporter": "python",
   "pygments_lexer": "ipython3",
   "version": "3.7.3"
  }
 },
 "nbformat": 4,
 "nbformat_minor": 2
}
